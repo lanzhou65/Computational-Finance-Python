{
 "cells": [
  {
   "cell_type": "code",
   "execution_count": 2,
   "metadata": {},
   "outputs": [],
   "source": [
    "from sympy import symbols, Eq, solve\n",
    "import numpy as np\n",
    "\n",
    "#WMT 3 1/8 06/23/21 bond CDS info as below: \n",
    "oneY_bid = 0.990\n",
    "oneY_ask = 8.150\n",
    "twoY_bid = 4.890\n",
    "twoY_ask = 12.09\n",
    "threeY_bid = 7.95\n",
    "threeY_ask = 15.11"
   ]
  },
  {
   "cell_type": "code",
   "execution_count": 13,
   "metadata": {},
   "outputs": [],
   "source": [
    "def bootstraping(i):\n",
    "    p1, p2, p3, R, r, S1, S2, S3 = symbols('p1 p2 p3 R r S1 S2 S3')\n",
    "\n",
    "    r = 0.0223\n",
    "    R= 0.4\n",
    "    S1 = (oneY_ask - oneY_bid)/10000\n",
    "    S2 = (twoY_ask-twoY_bid)/10000\n",
    "    S3 = (threeY_ask-threeY_bid)/10000\n",
    "\n",
    "    if i ==1: \n",
    "        eq1 = Eq(p1*(1-R)/(1+r) - (1-p1)*S1/(1+r))\n",
    "        p1 = solve(eq1, p1)\n",
    "        return p1[0]\n",
    "\n",
    "    if i ==2:\n",
    "        eq1 = Eq(p1*(1-R)/(1+r) - (1-p1)*S1/(1+r))\n",
    "        p1 = solve(eq1, p1)[0]\n",
    "        \n",
    "        eq2 = Eq(p1*(1-R)/(1+r)+p2*(1-p1)*(1-R)/(1+r)**2 - ((1-p1)*S2/(1+r)+ (1-p1)*(1-p2)*S2/(1+r)**2))\n",
    "        p2 = solve(eq2, p2)\n",
    "        return p2[0]\n",
    "        \n",
    "    if i ==3:\n",
    "        eq1 = Eq(p1*(1-R)/(1+r) - (1-p1)*S1/(1+r))\n",
    "        p1 = solve(eq1, p1)[0]\n",
    "        \n",
    "        eq2 = Eq(p1*(1-R)/(1+r)+p2*(1-p1)*(1-R)/(1+r)**2 - ((1-p1)*S2/(1+r)+ (1-p1)*(1-p2)*S2/(1+r)**2))\n",
    "        p2 = solve(eq2, p2)[0]\n",
    "        \n",
    "        eq3 = Eq(p1*(1-R)/(1+r)+p2*(1-p1)*(1-R)/(1+r)**2 + p3*(1-p2)*(1-p1)*(1-R)/(1-r)**3 - \\\n",
    "             ((1-p1)*S3/(1+r)+ (1-p1)*(1-p2)*S3/(1+r)**2 + (1-p1)*(1-p2)*(1-p3)*S3/(1+r)**3))\n",
    "        p3 = solve(eq3, p3)\n",
    "        \n",
    "        return p3[0]                     \n",
    "    "
   ]
  },
  {
   "cell_type": "code",
   "execution_count": 22,
   "metadata": {},
   "outputs": [
    {
     "name": "stdout",
     "output_type": "stream",
     "text": [
      "The three year default probabilities are:  [0.00119191098622311, 0.00120536889066454, 0.00103072347387934]\n"
     ]
    }
   ],
   "source": [
    "prob = [bootstraping(i) for i in range(1,4)]\n",
    "print('The three year default probabilities are: ', prob)"
   ]
  },
  {
   "cell_type": "code",
   "execution_count": 175,
   "metadata": {},
   "outputs": [],
   "source": [
    "#doesn't really work \n",
    "from sympy import symbols, Eq, solve\n",
    "\n",
    "def function1():\n",
    "    r = 0.0223\n",
    "    R= 0.4\n",
    "    S1 = 0.009\n",
    "    S2 = 0.008\n",
    "    S3 = 0.007\n",
    "    \n",
    "    p1, p2, p3, R, r, S1, S2, S3 = symbols('p1 p2 p3 R r S1 S2 S3')\n",
    "    eq1 = Eq(p1*(1-R)/(1+r) - (1-p1)*S1/(1+r))\n",
    "    p1 = solve(eq1, p1)  #as p1 is a list \n",
    "    return p1[0]\n",
    "\n",
    "def function2(p1):\n",
    "    p2, p3, R, r, S1, S2, S3 = symbols('p2 p3 R r S1 S2 S3')\n",
    "    eq2 = Eq(p1*(1-R)/(1+r)+p2*(1-p1)*(1-R)/(1+r)**2 - ((1-p1)*S2/(1+r)+ (1-p1)*(1-p2)*S2/(1+r)**2))\n",
    "    p2 = solve(eq2, p2)  #as p2 return a list of one variable \n",
    "    return p2[0]\n",
    "             \n",
    "def function3(p1, p2):\n",
    "    p3, R, r, S1, S2, S3 = symbols('p3 R r S1 S2 S3')\n",
    "    eq3 = Eq(p1*(1-R)/(1+r)+p2*(1-p1)*(1-R)/(1+r)**2 + p3*(1-p2)*(1-p1)*(1-R)/(1-r)**3 - \\\n",
    "             ((1-p1)*S3/(1+r)+ (1-p1)*(1-p2)*S3/(1+r)**2 + (1-p1)*(1-p2)*(1-p3)*S3/(1+r)**3))\n",
    "    p3 = solve(eq2, p3)[0]\n",
    "    return p3\n",
    "\n",
    "def bootstraping(i):\n",
    "    r = 0.0223\n",
    "    R= 0.4\n",
    "    S1 = 0.009\n",
    "    S2 = 0.008\n",
    "    S3 = 0.007\n",
    "\n",
    "    if i ==1: \n",
    "        p1 = function1()\n",
    "        return p1\n",
    "\n",
    "    if i ==2:\n",
    "        p1 = function1()\n",
    "        p2 = function2(p1)\n",
    "        return p2\n",
    "    \n",
    "    if i ==3:\n",
    "        p1 = function1()\n",
    "        p2 = function2(p1)\n",
    "        p3 = function3(p1, p2)\n",
    "        return p3\n",
    "        \n"
   ]
  }
 ],
 "metadata": {
  "kernelspec": {
   "display_name": "Python 3",
   "language": "python",
   "name": "python3"
  },
  "language_info": {
   "codemirror_mode": {
    "name": "ipython",
    "version": 3
   },
   "file_extension": ".py",
   "mimetype": "text/x-python",
   "name": "python",
   "nbconvert_exporter": "python",
   "pygments_lexer": "ipython3",
   "version": "3.7.1"
  }
 },
 "nbformat": 4,
 "nbformat_minor": 2
}
